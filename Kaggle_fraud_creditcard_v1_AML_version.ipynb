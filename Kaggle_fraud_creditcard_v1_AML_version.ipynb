{
 "cells": [
  {
   "cell_type": "code",
   "execution_count": 1,
   "metadata": {},
   "outputs": [
    {
     "name": "stderr",
     "output_type": "stream",
     "text": [
      "/miniconda3/envs/myenv/lib/python3.6/site-packages/sklearn/externals/joblib/__init__.py:15: DeprecationWarning: sklearn.externals.joblib is deprecated in 0.21 and will be removed in 0.23. Please import this functionality directly from joblib, which can be installed with: pip install joblib. If this warning is raised when loading pickled models, you may need to re-serialize those models with scikit-learn 0.21+.\n",
      "  warnings.warn(msg, category=DeprecationWarning)\n"
     ]
    }
   ],
   "source": [
    "# load packages\n",
    "import pandas as pd\n",
    "from sklearn.preprocessing import StandardScaler\n",
    "from sklearn.model_selection import train_test_split\n",
    "from sklearn.linear_model import LogisticRegression\n",
    "from sklearn.metrics import roc_curve, auc, confusion_matrix, accuracy_score, classification_report, f1_score\n",
    "import matplotlib.pyplot as plt\n",
    "import numpy as np\n",
    "import datetime\n",
    "from sklearn.model_selection import train_test_split\n",
    "from sklearn.externals import joblib\n",
    "\n",
    "\n",
    "\n",
    "%matplotlib inline \n",
    " \n",
    "import azureml.core\n",
    "from azureml.core import Workspace\n",
    "from azureml.core.model import Model\n",
    "from azureml.core import Experiment\n",
    "from azureml.core.webservice import Webservice\n",
    "from azureml.core.image import ContainerImage\n",
    "from azureml.core.webservice import AciWebservice\n",
    "from azureml.core.conda_dependencies import CondaDependencies"
   ]
  },
  {
   "cell_type": "code",
   "execution_count": 2,
   "metadata": {},
   "outputs": [],
   "source": [
    "ws=Workspace.from_config()"
   ]
  },
  {
   "cell_type": "code",
   "execution_count": 3,
   "metadata": {},
   "outputs": [],
   "source": [
    "exp = Experiment(workspace=ws, name='kagglefraud')\n",
    "run = exp.start_logging()                   \n",
    "run.log(\"Experiment start time\", str(datetime.datetime.now()))"
   ]
  },
  {
   "cell_type": "code",
   "execution_count": 4,
   "metadata": {},
   "outputs": [],
   "source": [
    "# import data\n",
    "creditcard = pd.read_csv(\"kaggle_fraud_creditcard.csv\")\n",
    "# preprocess\n",
    "creditcard['Amount'] = StandardScaler().fit_transform(creditcard['Amount'].values.reshape(-1,1)) \n",
    "creditcard['Time'] = StandardScaler().fit_transform(creditcard['Time'].values.reshape(-1,1)) \n",
    "# store features and target seperately\n",
    "X = creditcard.drop('Class', axis=1)\n",
    "y = creditcard['Class']\n",
    "# split training data and test data\n",
    "X_train, X_test, y_train, y_test = train_test_split(X, y, test_size=0.3, random_state=42, stratify=y)"
   ]
  },
  {
   "cell_type": "code",
   "execution_count": 5,
   "metadata": {},
   "outputs": [],
   "source": [
    "# train a logistic regression classifier \n",
    "classifer = LogisticRegression(solver=\"lbfgs\").fit(X_train, y_train)"
   ]
  },
  {
   "cell_type": "code",
   "execution_count": 6,
   "metadata": {},
   "outputs": [],
   "source": [
    "# predict probabilities on the test data\n",
    "prediction_proba = classifer.predict_proba(X_test)"
   ]
  },
  {
   "cell_type": "code",
   "execution_count": 7,
   "metadata": {},
   "outputs": [],
   "source": [
    "# compute roc curve\n",
    "fpr, tpr, threshold = roc_curve(y_test, prediction_proba[:, 1])\n",
    "roc_auc = auc(fpr, tpr)"
   ]
  },
  {
   "cell_type": "code",
   "execution_count": 8,
   "metadata": {},
   "outputs": [
    {
     "data": {
      "image/png": "[encoded data removed]",
      "text/plain": [
       "<Figure size 432x288 with 1 Axes>"
      ]
     },
     "metadata": {
      "needs_background": "light"
     },
     "output_type": "display_data"
    }
   ],
   "source": [
    "# draw roc curve\n",
    "plt.figure()\n",
    "lw = 2\n",
    "plt.plot(fpr, tpr, color='darkorange',\n",
    "         lw=lw, label='ROC curve (area = %0.2f)' % roc_auc)\n",
    "plt.plot([0, 1], [0, 1], color='navy', lw=lw, linestyle='--')\n",
    "plt.xlim([0.0, 1.0])\n",
    "plt.ylim([0.0, 1.05])\n",
    "plt.xlabel('False Positive Rate')\n",
    "plt.ylabel('True Positive Rate')\n",
    "plt.title('Receiver operating characteristic')\n",
    "plt.legend(loc=\"lower right\")\n",
    "plt.show()"
   ]
  },
  {
   "cell_type": "code",
   "execution_count": 9,
   "metadata": {},
   "outputs": [
    {
     "name": "stdout",
     "output_type": "stream",
     "text": [
      "optimal probability cutoff: 0.000835\n"
     ]
    }
   ],
   "source": [
    "# find the optimal probability cutoff, which is the intersection point of sensitivity plot and specificity plot\n",
    "i = np.arange(len(tpr)) \n",
    "roc = pd.DataFrame({'tf' : pd.Series(tpr-(1-fpr), index=i), 'threshold' : pd.Series(threshold, index=i)})\n",
    "roc_t = roc.iloc[(roc.tf-0).abs().argsort()[:1]]\n",
    "cutoff = roc_t[\"threshold\"].values[0]\n",
    "print(\"optimal probability cutoff: %.6f\" % cutoff)"
   ]
  },
  {
   "cell_type": "code",
   "execution_count": 10,
   "metadata": {},
   "outputs": [],
   "source": [
    "# perform predictions based on the probability cutoff\n",
    "prediction = np.where(prediction_proba[:, 1]>=cutoff, 1, 0)"
   ]
  },
  {
   "cell_type": "code",
   "execution_count": 11,
   "metadata": {},
   "outputs": [],
   "source": [
    "# compute performance measures\n",
    "# confusion matrix\n",
    "tn, fp, fn, tp = confusion_matrix(y_test, prediction).ravel()\n",
    "# type I error\n",
    "type_I_error = float(fp) / (fp+tn)\n",
    "# type II error\n",
    "type_II_error = float(fn) / (fn+tp)\n",
    "# accuracy\n",
    "accuracy = accuracy_score(y_test, prediction)\n",
    "# f1 score\n",
    "f1 = f1_score(y_test, prediction)"
   ]
  },
  {
   "cell_type": "code",
   "execution_count": 12,
   "metadata": {},
   "outputs": [
    {
     "name": "stdout",
     "output_type": "stream",
     "text": [
      "Type I Error: 10.49%\n",
      "Type II Error: 10.81%\n",
      "Accuracy: 89.51%\n",
      "F1 Score: 0.028612\n"
     ]
    }
   ],
   "source": [
    "print(\"Type I Error: %.2f%%\" % (type_I_error*100))\n",
    "print(\"Type II Error: %.2f%%\" % (type_II_error*100))\n",
    "print(\"Accuracy: %.2f%%\" % (accuracy*100))\n",
    "print(\"F1 Score: %.6f\" % f1)"
   ]
  },
  {
   "cell_type": "code",
   "execution_count": 13,
   "metadata": {},
   "outputs": [
    {
     "data": {
      "text/plain": [
       "['kaggle_fraud_model.pkl']"
      ]
     },
     "execution_count": 13,
     "metadata": {},
     "output_type": "execute_result"
    }
   ],
   "source": [
    "filename = 'kaggle_fraud_model.pkl'\n",
    "joblib.dump(classifer, filename)"
   ]
  },
  {
   "cell_type": "code",
   "execution_count": 14,
   "metadata": {},
   "outputs": [],
   "source": [
    "run.log(\"Experiment end time\", str(datetime.datetime.now()))\n",
    "run.complete()"
   ]
  },
  {
   "cell_type": "code",
   "execution_count": 15,
   "metadata": {},
   "outputs": [
    {
     "name": "stdout",
     "output_type": "stream",
     "text": [
      "Registering model kaggle_fraud_model\n",
      "# Conda environment specification. The dependencies defined in this file will\n",
      "# be automatically provisioned for runs with userManagedDependencies=False.\n",
      "\n",
      "# Details about the Conda environment file format:\n",
      "# https://conda.io/docs/user-guide/tasks/manage-environments.html#create-env-file-manually\n",
      "\n",
      "name: project_environment\n",
      "dependencies:\n",
      "  # The python interpreter version.\n",
      "  # Currently Azure ML only supports 3.5.2 and later.\n",
      "- python=3.6.2\n",
      "\n",
      "- pip:\n",
      "    # Required packages for AzureML execution, history, and data preparation.\n",
      "  - azureml-defaults\n",
      "- scikit-learn\n",
      "\n"
     ]
    }
   ],
   "source": [
    "model = Model.register(model_path = \"kaggle_fraud_model.pkl\",\n",
    "                       model_name = \"kaggle_fraud_model\",\n",
    "                       description = \"Kaggle Fraud Detection\",\n",
    "                       workspace = ws)\n",
    "\n",
    "modelenv = CondaDependencies()\n",
    "modelenv.add_conda_package(\"scikit-learn\")\n",
    " \n",
    "with open(\"modelenv.yml\",\"w\") as f:\n",
    "    f.write(modelenv.serialize_to_string())\n",
    "with open(\"modelenv.yml\",\"r\") as f:\n",
    "    print(f.read())"
   ]
  },
  {
   "cell_type": "code",
   "execution_count": 20,
   "metadata": {},
   "outputs": [
    {
     "name": "stdout",
     "output_type": "stream",
     "text": [
      "Overwriting score.py\n"
     ]
    }
   ],
   "source": [
    "%%writefile score.py\n",
    "\n",
    "import json\n",
    "import numpy as np\n",
    "import os\n",
    "import pickle\n",
    "from sklearn.externals import joblib\n",
    "from azureml.core.model import Model\n",
    " \n",
    "def init():\n",
    "    global model\n",
    "    # retrieve the path to the model file using the model name\n",
    "    model_path = Model.get_model_path('kaggle_fraud_model')\n",
    "    model = joblib.load(model_path)\n",
    " \n",
    "def run(raw_data):\n",
    "    data = np.array(json.loads(raw_data)['data'])\n",
    "    # make prediction\n",
    "    y_proba = model.predict_proba(data)[:, 1]\n",
    "    if y_proba > 0.000835:\n",
    "        y_pred = \"Fraud\"\n",
    "    else:\n",
    "        y_pred = \"Not Fraud\"\n",
    "    return json.dumps(y_pred)"
   ]
  },
  {
   "cell_type": "code",
   "execution_count": 22,
   "metadata": {},
   "outputs": [
    {
     "name": "stdout",
     "output_type": "stream",
     "text": [
      "Creating image\n",
      "\n",
      "Image creation operation finished for image kaggle-fraud-svc4:1, operation \"Succeeded\"\n",
      "Creating service\n",
      "Running....................\n",
      "SucceededACI service creation operation finished, operation \"Succeeded\"\n",
      "http://01479f65-2f69-4759-8c5d-1fa62c4cc3b3.eastus.azurecontainer.io/score\n",
      "CPU times: user 3.14 s, sys: 310 ms, total: 3.45 s\n",
      "Wall time: 6min 26s\n"
     ]
    }
   ],
   "source": [
    "%%time\n",
    " \n",
    "image_config = ContainerImage.image_configuration(execution_script=\"score.py\", \n",
    "                                                  runtime=\"python\", \n",
    "                                                  conda_file=\"modelenv.yml\")\n",
    "\n",
    "aciconfig = AciWebservice.deploy_configuration(cpu_cores=1, \n",
    "                                               memory_gb=1, \n",
    "                                               tags={\"data\": \"kaggle_fraud\",  \"method\" : \"sklearn\"}, \n",
    "                                               description='Kaggle Fraud Detection')\n",
    " \n",
    "service = Webservice.deploy_from_model(workspace=ws,\n",
    "                                       name='kaggle-fraud-svc4',\n",
    "                                       deployment_config=aciconfig,\n",
    "                                       models=[model],\n",
    "                                       image_config=image_config)\n",
    " \n",
    "service.wait_for_deployment(show_output=True)\n",
    "\n",
    "\n",
    "print(service.scoring_uri)"
   ]
  },
  {
   "cell_type": "code",
   "execution_count": 58,
   "metadata": {},
   "outputs": [
    {
     "name": "stdout",
     "output_type": "stream",
     "text": [
      "X values:  [-1.1245112280362188, -15.140449622507301, 7.3780424122128405, -16.356367356494, 9.19493491430021, -13.4661632895942, -2.9584305008210294, -16.1655386244192, 10.075253945553198, -7.90182112627786, -13.0094028057641, 4.82823533219729, -11.0584014244364, 1.99812557552295, -8.59204740189288, 0.540385309176116, -10.6157452968661, -21.0178983428443, -8.39739305199317, 3.18355894967976, -1.6914819878255303, 3.14742810473234, 0.34167759507120604, -1.1501624708995202, 0.7951897349649459, -0.194542181109758, 0.145963568626439, -2.4586803475657404, -1.18988788135128, 0.0727666909972656]\n",
      "\n",
      "true label (1 denoting fraud and 0 denoting nonfraud):  1\n"
     ]
    }
   ],
   "source": [
    "fraud_example = list(np.array(X_test.iloc[355, :]))\n",
    "print(\"X values: \", fraud_example)\n",
    "print(\"\\ntrue label (1 denoting fraud and 0 denoting nonfraud): \", y_test.iloc[355])"
   ]
  },
  {
   "cell_type": "code",
   "execution_count": 59,
   "metadata": {},
   "outputs": [
    {
     "name": "stdout",
     "output_type": "stream",
     "text": [
      "X values: [0.6839643198001779, -2.53733124088052, 1.89086398954169, -0.8405545387893091, -1.10275857451177, -2.1057249650181697, 0.36781082317464897, -2.7378443184627, -3.5433138803995097, -0.48314658550283, 0.11272408214417098, -1.6125864643408, 0.6358552717405961, 0.40687115041485705, 0.8543712685868969, 0.505753382304214, -0.947788092588628, 0.557331097060658, 1.54663826513625, -0.789047413329509, -1.9596112476146101, 4.32816481557604, -2.16732949946179, 1.02256725061431, -0.241143274477121, -1.09488536686343, -0.47542743748854294, -0.177157043721632, -0.0826905453531387, -0.20370096931354403]\n",
      "\n",
      "true label (1 denoting fraud and 0 denoting nonfraud):  0\n"
     ]
    }
   ],
   "source": [
    "nonfraud_example = list(np.array(X_test.iloc[0, :]))\n",
    "print(\"X values:\", nonfraud_example)\n",
    "print(\"\\ntrue label (1 denoting fraud and 0 denoting nonfraud): \", y_test.iloc[0])"
   ]
  },
  {
   "cell_type": "code",
   "execution_count": 60,
   "metadata": {},
   "outputs": [],
   "source": [
    "import requests\n",
    "url = 'http://01479f65-2f69-4759-8c5d-1fa62c4cc3b3.eastus.azurecontainer.io/score'"
   ]
  },
  {
   "cell_type": "code",
   "execution_count": 61,
   "metadata": {},
   "outputs": [
    {
     "name": "stdout",
     "output_type": "stream",
     "text": [
      "\"\\\"Fraud\\\"\"\n"
     ]
    }
   ],
   "source": [
    "r = requests.get(url, params={'data': '['+str(fraud_example)+']'})\n",
    "print(r.text)"
   ]
  },
  {
   "cell_type": "code",
   "execution_count": 62,
   "metadata": {},
   "outputs": [
    {
     "name": "stdout",
     "output_type": "stream",
     "text": [
      "\"\\\"Not Fraud\\\"\"\n"
     ]
    }
   ],
   "source": [
    "r = requests.get(url, params={'data': '['+str(nonfraud_example)+']'})\n",
    "print(r.text)"
   ]
  }
 ],
 "metadata": {
  "kernelspec": {
   "display_name": "Python 3",
   "language": "python",
   "name": "python3"
  },
  "language_info": {
   "codemirror_mode": {
    "name": "ipython",
    "version": 3
   },
   "file_extension": ".py",
   "mimetype": "text/x-python",
   "name": "python",
   "nbconvert_exporter": "python",
   "pygments_lexer": "ipython3",
   "version": "3.6.5"
  }
 },
 "nbformat": 4,
 "nbformat_minor": 2
}
